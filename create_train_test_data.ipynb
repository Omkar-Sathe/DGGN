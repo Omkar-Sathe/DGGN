{
 "cells": [
  {
   "cell_type": "code",
   "execution_count": 1,
   "metadata": {},
   "outputs": [],
   "source": [
    "import os\n",
    "import networkx as nx\n",
    "import numpy as np\n",
    "import random\n",
    "import pandas as pd\n",
    "from sklearn.model_selection import train_test_split"
   ]
  },
  {
   "cell_type": "code",
   "execution_count": 2,
   "metadata": {},
   "outputs": [
    {
     "name": "stdout",
     "output_type": "stream",
     "text": [
      "Before: 3693 595954\n",
      "After: 3693 85836\n",
      "Before: 3693 595954\n",
      "After: 3693 510118\n"
     ]
    }
   ],
   "source": [
    "gmd_graph_positive_weights = nx.read_weighted_edgelist('data/gmd.edgelist',delimiter=\"\\t\")\n",
    "gmd_graph_negative_weights = nx.read_weighted_edgelist('data/gmd.edgelist',delimiter=\"\\t\")\n",
    "\n",
    "print(\"Before:\",gmd_graph_positive_weights.number_of_nodes(),gmd_graph_positive_weights.number_of_edges())\n",
    "for edge in list(gmd_graph_positive_weights.edges):\n",
    "    if gmd_graph_positive_weights.get_edge_data(edge[0],edge[1])['weight']<=0.0:\n",
    "        gmd_graph_positive_weights.remove_edge(edge[0],edge[1])\n",
    "print(\"After:\",gmd_graph_positive_weights.number_of_nodes(),gmd_graph_positive_weights.number_of_edges())\n",
    "\n",
    "print(\"Before:\",gmd_graph_negative_weights.number_of_nodes(),gmd_graph_negative_weights.number_of_edges())\n",
    "for edge in list(gmd_graph_negative_weights.edges):\n",
    "    if gmd_graph_negative_weights.get_edge_data(edge[0],edge[1])['weight']>0.0:\n",
    "        gmd_graph_negative_weights.remove_edge(edge[0],edge[1])\n",
    "print(\"After:\",gmd_graph_negative_weights.number_of_nodes(),gmd_graph_negative_weights.number_of_edges())"
   ]
  },
  {
   "cell_type": "code",
   "execution_count": 3,
   "metadata": {},
   "outputs": [
    {
     "name": "stdout",
     "output_type": "stream",
     "text": [
      "            0     1  2\n",
      "0          G1    M1  1\n",
      "1          G1    M2  1\n",
      "2          G1    M3  1\n",
      "3          G1    M4  1\n",
      "4          G1    M5  1\n",
      "...       ...   ... ..\n",
      "595949  M2472  D217  0\n",
      "595950  M2473  D217  0\n",
      "595951  M2474  D217  0\n",
      "595952  M2475  D217  0\n",
      "595953  M2476  D217  0\n",
      "\n",
      "[595954 rows x 3 columns]\n"
     ]
    }
   ],
   "source": [
    "df = pd.read_csv('data/gmd.edgelist', delimiter='\\t', index_col=None, header=None)\n",
    "print(df)"
   ]
  },
  {
   "cell_type": "code",
   "execution_count": 4,
   "metadata": {},
   "outputs": [
    {
     "name": "stdout",
     "output_type": "stream",
     "text": [
      "          0     1  2\n",
      "0        G1    M1  1\n",
      "1        G1    M2  1\n",
      "2        G1    M3  1\n",
      "3        G1    M4  1\n",
      "4        G1    M5  1\n",
      "...     ...   ... ..\n",
      "85831  M403  D215  1\n",
      "85832  M636  D216  1\n",
      "85833    M2  D217  1\n",
      "85834   M11  D217  1\n",
      "85835  M780  D217  1\n",
      "\n",
      "[85836 rows x 3 columns]\n",
      "            0     1  2\n",
      "0          M1    D1  0\n",
      "1          M2    D1  0\n",
      "2          M3    D1  0\n",
      "3          M4    D1  0\n",
      "4          M5    D1  0\n",
      "...       ...   ... ..\n",
      "510113  M2472  D217  0\n",
      "510114  M2473  D217  0\n",
      "510115  M2474  D217  0\n",
      "510116  M2475  D217  0\n",
      "510117  M2476  D217  0\n",
      "\n",
      "[510118 rows x 3 columns]\n"
     ]
    }
   ],
   "source": [
    "positive_samples = df[df[2] > 0].reset_index(drop=True)\n",
    "negative_samples = df[df[2] <= 0].reset_index(drop=True)\n",
    "print(positive_samples)\n",
    "print(negative_samples)"
   ]
  },
  {
   "cell_type": "code",
   "execution_count": 5,
   "metadata": {},
   "outputs": [
    {
     "name": "stdout",
     "output_type": "stream",
     "text": [
      "           0      1  2\n",
      "0      M2013    D27  1\n",
      "1       G602  M1269  1\n",
      "2       G631   M635  1\n",
      "3       G414   M369  1\n",
      "4       G910   M871  1\n",
      "...      ...    ... ..\n",
      "85831  M2121    D77  1\n",
      "85832   G559   M737  1\n",
      "85833   G601  M1366  1\n",
      "85834   G330   M468  1\n",
      "85835  M1482   D110  1\n",
      "\n",
      "[85836 rows x 3 columns]\n",
      "           0     1  2\n",
      "0       M554   D94  0\n",
      "1      M1896  D214  0\n",
      "2       M895   D86  0\n",
      "3       M851  D159  0\n",
      "4       M685   D82  0\n",
      "...      ...   ... ..\n",
      "85831  M1519   D16  0\n",
      "85832  M2319  D175  0\n",
      "85833  M2043  D132  0\n",
      "85834   M470  D181  0\n",
      "85835   M646  D217  0\n",
      "\n",
      "[85836 rows x 3 columns]\n"
     ]
    }
   ],
   "source": [
    "min_count = min(len(positive_samples), len(negative_samples))\n",
    "positive_samples_balanced = positive_samples.sample(n=min_count, random_state=12, ignore_index = True)\n",
    "negative_samples_balanced = negative_samples.sample(n=min_count, random_state=12, ignore_index = True)\n",
    "print(positive_samples_balanced)\n",
    "print(negative_samples_balanced)"
   ]
  },
  {
   "cell_type": "code",
   "execution_count": 6,
   "metadata": {},
   "outputs": [
    {
     "name": "stdout",
     "output_type": "stream",
     "text": [
      "            0      1  2\n",
      "0       M1455    D71  0\n",
      "1        M746   D165  0\n",
      "2        G246   M410  1\n",
      "3        G597   M118  1\n",
      "4        G448   M410  1\n",
      "...       ...    ... ..\n",
      "171667   M330    D69  1\n",
      "171668    M42    D11  0\n",
      "171669   G464   M115  1\n",
      "171670   G449  M1909  1\n",
      "171671  M1738   D131  0\n",
      "\n",
      "[171672 rows x 3 columns]\n"
     ]
    }
   ],
   "source": [
    "balanced_dataset = pd.concat([positive_samples_balanced, negative_samples_balanced])\n",
    "balanced_dataset = balanced_dataset.sample(frac=1, random_state=12).reset_index(drop=True)\n",
    "print(balanced_dataset)"
   ]
  },
  {
   "cell_type": "code",
   "execution_count": 7,
   "metadata": {},
   "outputs": [
    {
     "name": "stdout",
     "output_type": "stream",
     "text": [
      "            0      1\n",
      "0       M1455    D71\n",
      "1        M746   D165\n",
      "2        G246   M410\n",
      "3        G597   M118\n",
      "4        G448   M410\n",
      "...       ...    ...\n",
      "171667   M330    D69\n",
      "171668    M42    D11\n",
      "171669   G464   M115\n",
      "171670   G449  M1909\n",
      "171671  M1738   D131\n",
      "\n",
      "[171672 rows x 2 columns]\n",
      "        2\n",
      "0       0\n",
      "1       0\n",
      "2       1\n",
      "3       1\n",
      "4       1\n",
      "...    ..\n",
      "171667  1\n",
      "171668  0\n",
      "171669  1\n",
      "171670  1\n",
      "171671  0\n",
      "\n",
      "[171672 rows x 1 columns]\n"
     ]
    }
   ],
   "source": [
    "x = balanced_dataset[[0,1]]\n",
    "y = balanced_dataset[[2]]\n",
    "print(x)\n",
    "print(y)"
   ]
  },
  {
   "cell_type": "code",
   "execution_count": 8,
   "metadata": {},
   "outputs": [],
   "source": [
    "X_train, X_test, y_train, y_test = train_test_split(x, y, test_size=0.2, stratify=y)\n",
    "X_train = X_train.reset_index(drop=True)\n",
    "X_test = X_test.reset_index(drop=True)\n",
    "y_train = y_train.reset_index(drop=True)\n",
    "y_test = y_test.reset_index(drop=True)"
   ]
  },
  {
   "cell_type": "code",
   "execution_count": 9,
   "metadata": {},
   "outputs": [],
   "source": [
    "X_train.to_csv('data/balanced data/x_train_gmd.txt', sep=',', header=False, index=False)\n",
    "y_train.to_csv('data/balanced data/y_train_gmd.txt', header=False, index=False)\n",
    "X_test.to_csv('data/balanced data/x_test_gmd.txt', sep=',', header=False, index=False)\n",
    "y_test.to_csv('data/balanced data/y_test_gmd.txt', header=False, index=False)"
   ]
  },
  {
   "cell_type": "code",
   "execution_count": null,
   "metadata": {},
   "outputs": [],
   "source": []
  }
 ],
 "metadata": {
  "kernelspec": {
   "display_name": "Python 3",
   "language": "python",
   "name": "python3"
  },
  "language_info": {
   "codemirror_mode": {
    "name": "ipython",
    "version": 3
   },
   "file_extension": ".py",
   "mimetype": "text/x-python",
   "name": "python",
   "nbconvert_exporter": "python",
   "pygments_lexer": "ipython3",
   "version": "3.11.2"
  }
 },
 "nbformat": 4,
 "nbformat_minor": 2
}
