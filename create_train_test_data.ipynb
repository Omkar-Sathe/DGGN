{
 "cells": [
  {
   "cell_type": "code",
   "execution_count": 1,
   "metadata": {},
   "outputs": [],
   "source": [
    "import os\n",
    "import networkx as nx\n",
    "import numpy as np\n",
    "import random\n",
    "import pandas as pd\n",
    "from sklearn.model_selection import train_test_split"
   ]
  },
  {
   "cell_type": "code",
   "execution_count": 39,
   "metadata": {},
   "outputs": [
    {
     "name": "stdout",
     "output_type": "stream",
     "text": [
      "Before: 1217 675456\n",
      "After: 1217 271086\n",
      "Before: 1217 675456\n",
      "After: 1217 404370\n"
     ]
    }
   ],
   "source": [
    "gg_dd_graph_positive_weights = nx.read_weighted_edgelist('data/gg_dd_edges.edgelist',delimiter=\"\\t\")\n",
    "gg_dd_graph_negative_weights = nx.read_weighted_edgelist('data/gg_dd_edges.edgelist',delimiter=\"\\t\")\n",
    "\n",
    "print(\"Before:\",gg_dd_graph_positive_weights.number_of_nodes(),gg_dd_graph_positive_weights.number_of_edges())\n",
    "for edge in list(gg_dd_graph_positive_weights.edges):\n",
    "    if gg_dd_graph_positive_weights.get_edge_data(edge[0],edge[1])['weight']<0.4:\n",
    "        gg_dd_graph_positive_weights.remove_edge(edge[0],edge[1])\n",
    "print(\"After:\",gg_dd_graph_positive_weights.number_of_nodes(),gg_dd_graph_positive_weights.number_of_edges())\n",
    "\n",
    "print(\"Before:\",gg_dd_graph_negative_weights.number_of_nodes(),gg_dd_graph_negative_weights.number_of_edges())\n",
    "for edge in list(gg_dd_graph_negative_weights.edges):\n",
    "    if gg_dd_graph_negative_weights.get_edge_data(edge[0],edge[1])['weight']>=0.4:\n",
    "        gg_dd_graph_negative_weights.remove_edge(edge[0],edge[1])\n",
    "print(\"After:\",gg_dd_graph_negative_weights.number_of_nodes(),gg_dd_graph_negative_weights.number_of_edges())"
   ]
  },
  {
   "cell_type": "code",
   "execution_count": 40,
   "metadata": {},
   "outputs": [
    {
     "name": "stdout",
     "output_type": "stream",
     "text": [
      "            0     1         2\n",
      "0          G1    D1  1.000000\n",
      "1          G1    D2  1.000000\n",
      "2          G1    D3  0.000000\n",
      "3          G1    D4  0.000000\n",
      "4          G1    D5  1.000000\n",
      "...       ...   ...       ...\n",
      "1132690  D217  D211  0.054521\n",
      "1132691  D217  D212  0.026878\n",
      "1132692  D217  D214  0.028294\n",
      "1132693  D217  D216  0.041172\n",
      "1132694  D217  D217  1.000000\n",
      "\n",
      "[1132695 rows x 3 columns]\n"
     ]
    }
   ],
   "source": [
    "df = pd.read_csv('data/gg_dd_edges.edgelist', delimiter='\\t', index_col=None, header=None)\n",
    "print(df)"
   ]
  },
  {
   "cell_type": "code",
   "execution_count": 43,
   "metadata": {},
   "outputs": [
    {
     "name": "stdout",
     "output_type": "stream",
     "text": [
      "           0     1         2\n",
      "0         G1    D1  1.000000\n",
      "1         G1    D2  1.000000\n",
      "2         G1    D5  1.000000\n",
      "3         G1    D6  1.000000\n",
      "4         G1    D7  1.000000\n",
      "...      ...   ...       ...\n",
      "535254  D217   D31  0.838709\n",
      "535255  D217   D60  0.564516\n",
      "535256  D217  D119  0.402632\n",
      "535257  D217  D196  0.458801\n",
      "535258  D217  D217  1.000000\n",
      "\n",
      "[535259 rows x 3 columns]\n",
      "           0     1         2\n",
      "0         G1    D3  0.000000\n",
      "1         G1    D4  0.000000\n",
      "2         G1    D9  0.000000\n",
      "3         G1   D14  0.000000\n",
      "4         G1   D15  0.000000\n",
      "...      ...   ...       ...\n",
      "597431  D217  D210  0.184015\n",
      "597432  D217  D211  0.054521\n",
      "597433  D217  D212  0.026878\n",
      "597434  D217  D214  0.028294\n",
      "597435  D217  D216  0.041172\n",
      "\n",
      "[597436 rows x 3 columns]\n"
     ]
    }
   ],
   "source": [
    "positive_samples = df[df[2] >= 0.4].reset_index(drop=True)\n",
    "negative_samples = df[df[2] < 0.4].reset_index(drop=True)\n",
    "print(positive_samples)\n",
    "print(negative_samples)"
   ]
  },
  {
   "cell_type": "code",
   "execution_count": 44,
   "metadata": {},
   "outputs": [
    {
     "name": "stdout",
     "output_type": "stream",
     "text": [
      "            0     1\n",
      "0        G199  G724\n",
      "1        G432  G294\n",
      "2         D16   D49\n",
      "3        G695   D40\n",
      "4        G247  G350\n",
      "...       ...   ...\n",
      "1070513   G30  G746\n",
      "1070514  G723  D139\n",
      "1070515  G863  G848\n",
      "1070516  G416  G764\n",
      "1070517   G91   G83\n",
      "\n",
      "[1070518 rows x 2 columns]\n",
      "                2\n",
      "0        0.237600\n",
      "1        0.254833\n",
      "2        0.024567\n",
      "3        0.000000\n",
      "4        0.378773\n",
      "...           ...\n",
      "1070513  0.417500\n",
      "1070514  0.000000\n",
      "1070515  0.538182\n",
      "1070516  0.131000\n",
      "1070517  0.421467\n",
      "\n",
      "[1070518 rows x 1 columns]\n"
     ]
    }
   ],
   "source": [
    "min_count = min(len(positive_samples), len(negative_samples))\n",
    "positive_samples_balanced = positive_samples.sample(n=min_count, random_state=21, ignore_index = True)\n",
    "negative_samples_balanced = negative_samples.sample(n=min_count, random_state=21, ignore_index = True)\n",
    "balanced_dataset = pd.concat([positive_samples_balanced, negative_samples_balanced])\n",
    "balanced_dataset = balanced_dataset.sample(frac=1, random_state=21).reset_index(drop=True)\n",
    "x = balanced_dataset[[0,1]]\n",
    "y = balanced_dataset[[2]]\n",
    "print(x)\n",
    "print(y)"
   ]
  },
  {
   "cell_type": "code",
   "execution_count": 46,
   "metadata": {},
   "outputs": [
    {
     "name": "stdout",
     "output_type": "stream",
     "text": [
      "Classes with less than 2 samples: (1864,)\n"
     ]
    }
   ],
   "source": [
    "y_threshold = y[y<=0.4]\n",
    "unique_classes, class_counts = np.unique(y_threshold, return_counts=True)\n",
    "\n",
    "# Find classes with fewer than 2 samples\n",
    "classes_with_less_than_2_samples = unique_classes[class_counts < 2]\n",
    "\n",
    "print(\"Classes with less than 2 samples:\", classes_with_less_than_2_samples.shape)"
   ]
  },
  {
   "cell_type": "code",
   "execution_count": 47,
   "metadata": {},
   "outputs": [
    {
     "name": "stdout",
     "output_type": "stream",
     "text": [
      "(1070518, 2) (1070518, 1)\n"
     ]
    }
   ],
   "source": [
    "print(x.shape, y.shape)"
   ]
  },
  {
   "cell_type": "code",
   "execution_count": 36,
   "metadata": {},
   "outputs": [
    {
     "name": "stdout",
     "output_type": "stream",
     "text": [
      "(1068161, 2) (1068161, 1)\n"
     ]
    }
   ],
   "source": [
    "unique_classes, class_counts = np.unique(y, return_counts=True)\n",
    "\n",
    "# Find classes with fewer than 2 samples\n",
    "classes_with_less_than_2_samples = unique_classes[class_counts < 2]\n",
    "\n",
    "# Filter out samples corresponding to these classes\n",
    "valid_indices = ~np.isin(y, classes_with_less_than_2_samples)\n",
    "X_filtered = x[valid_indices]\n",
    "y_filtered = y[valid_indices]\n",
    "print(X_filtered.shape, y_filtered.shape)"
   ]
  },
  {
   "cell_type": "code",
   "execution_count": 49,
   "metadata": {},
   "outputs": [
    {
     "name": "stdout",
     "output_type": "stream",
     "text": [
      "(1068654, 2) (1068654, 1)\n"
     ]
    }
   ],
   "source": [
    "unique_classes, class_counts = np.unique(y, return_counts=True)\n",
    "\n",
    "# Find classes with fewer than 2 samples\n",
    "classes_with_less_than_2_samples = unique_classes[class_counts < 2]\n",
    "\n",
    "# Filter out samples corresponding to these classes\n",
    "valid_indices = ~np.isin(y, classes_with_less_than_2_samples)\n",
    "X_filtered = x[valid_indices]\n",
    "y_filtered = y[valid_indices]\n",
    "print(X_filtered.shape, y_filtered.shape)\n",
    "X_train, X_test, y_train, y_test = train_test_split(X_filtered, y_filtered, test_size=0.2, stratify=y_filtered)\n",
    "X_train = X_train.reset_index(drop=True)\n",
    "X_test = X_test.reset_index(drop=True)\n",
    "y_train = y_train.reset_index(drop=True)\n",
    "y_test = y_test.reset_index(drop=True)"
   ]
  },
  {
   "cell_type": "code",
   "execution_count": 50,
   "metadata": {},
   "outputs": [],
   "source": [
    "X_train.to_csv('data/balanced data/x_train_gg_dd_0.4th.txt', sep=',', header=False, index=False)\n",
    "y_train.to_csv('data/balanced data/y_train_gg_dd_0.4th.txt', header=False, index=False)\n",
    "X_test.to_csv('data/balanced data/x_test_gg_dd_0.4th.txt', sep=',', header=False, index=False)\n",
    "y_test.to_csv('data/balanced data/y_test_gg_dd_0.4th.txt', header=False, index=False)"
   ]
  },
  {
   "cell_type": "code",
   "execution_count": null,
   "metadata": {},
   "outputs": [],
   "source": []
  }
 ],
 "metadata": {
  "kernelspec": {
   "display_name": "Python 3",
   "language": "python",
   "name": "python3"
  },
  "language_info": {
   "codemirror_mode": {
    "name": "ipython",
    "version": 3
   },
   "file_extension": ".py",
   "mimetype": "text/x-python",
   "name": "python",
   "nbconvert_exporter": "python",
   "pygments_lexer": "ipython3",
   "version": "3.11.2"
  }
 },
 "nbformat": 4,
 "nbformat_minor": 2
}
