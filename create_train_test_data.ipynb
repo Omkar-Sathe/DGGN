{
 "cells": [
  {
   "cell_type": "code",
   "execution_count": 34,
   "metadata": {},
   "outputs": [],
   "source": [
    "import os\n",
    "import networkx as nx\n",
    "import numpy as np\n",
    "import random\n",
    "import pandas as pd\n",
    "from sklearn.model_selection import train_test_split"
   ]
  },
  {
   "cell_type": "code",
   "execution_count": 18,
   "metadata": {},
   "outputs": [],
   "source": [
    "gld_graph_positive_weights = nx.read_weighted_edgelist('data/gld.edgelist',delimiter=\"\\t\")\n",
    "gld_graph_negative_weights = nx.read_weighted_edgelist('data/gld.edgelist',delimiter=\"\\t\")"
   ]
  },
  {
   "cell_type": "code",
   "execution_count": 19,
   "metadata": {},
   "outputs": [
    {
     "name": "stdout",
     "output_type": "stream",
     "text": [
      "Graph with 2031 nodes and 178880 edges\n",
      "Graph with 2031 nodes and 178880 edges\n"
     ]
    }
   ],
   "source": [
    "print(gld_graph_negative_weights)\n",
    "print(gld_graph_positive_weights)"
   ]
  },
  {
   "cell_type": "code",
   "execution_count": 20,
   "metadata": {},
   "outputs": [
    {
     "name": "stdout",
     "output_type": "stream",
     "text": [
      "Before: 2031 178880\n",
      "After: 2031 5676\n"
     ]
    }
   ],
   "source": [
    "print(\"Before:\",gld_graph_positive_weights.number_of_nodes(),gld_graph_positive_weights.number_of_edges())\n",
    "for edge in list(gld_graph_positive_weights.edges):\n",
    "    if gld_graph_positive_weights.get_edge_data(edge[0],edge[1])['weight']<=0.0:\n",
    "        gld_graph_positive_weights.remove_edge(edge[0],edge[1])\n",
    "print(\"After:\",gld_graph_positive_weights.number_of_nodes(),gld_graph_positive_weights.number_of_edges())"
   ]
  },
  {
   "cell_type": "code",
   "execution_count": 21,
   "metadata": {},
   "outputs": [
    {
     "name": "stdout",
     "output_type": "stream",
     "text": [
      "Before: 2031 178880\n",
      "After: 2031 173204\n"
     ]
    }
   ],
   "source": [
    "# print(gld_graph_negative_weights)\n",
    "print(\"Before:\",gld_graph_negative_weights.number_of_nodes(),gld_graph_negative_weights.number_of_edges())\n",
    "for edge in list(gld_graph_negative_weights.edges):\n",
    "    if gld_graph_negative_weights.get_edge_data(edge[0],edge[1])['weight']>0.0:\n",
    "        gld_graph_negative_weights.remove_edge(edge[0],edge[1])\n",
    "print(\"After:\",gld_graph_negative_weights.number_of_nodes(),gld_graph_negative_weights.number_of_edges())\n",
    "# print(gld_graph_negative_weights)"
   ]
  },
  {
   "cell_type": "code",
   "execution_count": 50,
   "metadata": {},
   "outputs": [
    {
     "name": "stdout",
     "output_type": "stream",
     "text": [
      "           0     1  2\n",
      "0         G1   L39  1\n",
      "1         G1   L41  1\n",
      "2         G1   L85  1\n",
      "3         G1  L185  1\n",
      "4         G1  L205  1\n",
      "...      ...   ... ..\n",
      "178875  L810  D217  0\n",
      "178876  L811  D217  0\n",
      "178877  L812  D217  0\n",
      "178878  L813  D217  0\n",
      "178879  L814  D217  0\n",
      "\n",
      "[178880 rows x 3 columns]\n"
     ]
    }
   ],
   "source": [
    "df = pd.read_csv('data/gld.edgelist', delimiter='\\t', index_col=None, header=None)\n",
    "print(df)"
   ]
  },
  {
   "cell_type": "code",
   "execution_count": 52,
   "metadata": {},
   "outputs": [
    {
     "name": "stdout",
     "output_type": "stream",
     "text": [
      "         0     1  2\n",
      "0       G1   L39  1\n",
      "1       G1   L41  1\n",
      "2       G1   L85  1\n",
      "3       G1  L185  1\n",
      "4       G1  L205  1\n",
      "...    ...   ... ..\n",
      "5671   L71  D217  1\n",
      "5672   L73  D217  1\n",
      "5673   L80  D217  1\n",
      "5674   L98  D217  1\n",
      "5675  L113  D217  1\n",
      "\n",
      "[5676 rows x 3 columns]\n"
     ]
    }
   ],
   "source": [
    "positive_samples = df[df[2] > 0].reset_index(drop=True)\n",
    "negative_samples = df[df[2] <= 0].reset_index(drop=True)\n",
    "print(positive_samples)"
   ]
  },
  {
   "cell_type": "code",
   "execution_count": 56,
   "metadata": {},
   "outputs": [
    {
     "name": "stdout",
     "output_type": "stream",
     "text": [
      "         0     1  2\n",
      "0      L34   D62  1\n",
      "1      G22   L71  1\n",
      "2      L69   D45  1\n",
      "3     G128  L299  1\n",
      "4     L289   D46  1\n",
      "...    ...   ... ..\n",
      "5671  L323   D52  1\n",
      "5672  G547  L113  1\n",
      "5673  L687   D46  1\n",
      "5674  L145   D44  1\n",
      "5675  G618   L71  1\n",
      "\n",
      "[5676 rows x 3 columns]\n",
      "         0     1  2\n",
      "0     L287   D40  0\n",
      "1     L780  D193  0\n",
      "2     L362  D143  0\n",
      "3      L45  D134  0\n",
      "4     L660  D188  0\n",
      "...    ...   ... ..\n",
      "5671  L691  D182  0\n",
      "5672   L43   D28  0\n",
      "5673  L496  D142  0\n",
      "5674  L734   D39  0\n",
      "5675   L51  D120  0\n",
      "\n",
      "[5676 rows x 3 columns]\n"
     ]
    }
   ],
   "source": [
    "min_count = min(len(positive_samples), len(negative_samples))\n",
    "positive_samples_balanced = positive_samples.sample(n=min_count, random_state=12, ignore_index = True)\n",
    "negative_samples_balanced = negative_samples.sample(n=min_count, random_state=12, ignore_index = True)\n",
    "print(positive_samples_balanced)\n",
    "print(negative_samples_balanced)"
   ]
  },
  {
   "cell_type": "code",
   "execution_count": 61,
   "metadata": {},
   "outputs": [
    {
     "name": "stdout",
     "output_type": "stream",
     "text": [
      "          0     1  2\n",
      "0      G105  L181  1\n",
      "1      L366  D170  0\n",
      "2      L679  D160  0\n",
      "3      G152   L71  1\n",
      "4      L687  D121  0\n",
      "...     ...   ... ..\n",
      "11347  L149  D129  1\n",
      "11348  L508   D30  0\n",
      "11349   L81   D94  1\n",
      "11350  L180   D27  0\n",
      "11351  L755  D182  0\n",
      "\n",
      "[11352 rows x 3 columns]\n"
     ]
    }
   ],
   "source": [
    "balanced_dataset = pd.concat([positive_samples_balanced, negative_samples_balanced])\n",
    "balanced_dataset = balanced_dataset.sample(frac=1, random_state=12).reset_index(drop=True)\n",
    "print(balanced_dataset)"
   ]
  },
  {
   "cell_type": "code",
   "execution_count": 64,
   "metadata": {},
   "outputs": [
    {
     "name": "stdout",
     "output_type": "stream",
     "text": [
      "          0     1\n",
      "0      G105  L181\n",
      "1      L366  D170\n",
      "2      L679  D160\n",
      "3      G152   L71\n",
      "4      L687  D121\n",
      "...     ...   ...\n",
      "11347  L149  D129\n",
      "11348  L508   D30\n",
      "11349   L81   D94\n",
      "11350  L180   D27\n",
      "11351  L755  D182\n",
      "\n",
      "[11352 rows x 2 columns]\n",
      "       2\n",
      "0      1\n",
      "1      0\n",
      "2      0\n",
      "3      1\n",
      "4      0\n",
      "...   ..\n",
      "11347  1\n",
      "11348  0\n",
      "11349  1\n",
      "11350  0\n",
      "11351  0\n",
      "\n",
      "[11352 rows x 1 columns]\n"
     ]
    }
   ],
   "source": [
    "x = balanced_dataset[[0,1]]\n",
    "y = balanced_dataset[[2]]\n",
    "print(x)\n",
    "print(y)"
   ]
  },
  {
   "cell_type": "code",
   "execution_count": 73,
   "metadata": {},
   "outputs": [],
   "source": [
    "X_train, X_test, y_train, y_test = train_test_split(x, y, test_size=0.2, stratify=y)\n",
    "X_train = X_train.reset_index(drop=True)\n",
    "X_test = X_test.reset_index(drop=True)\n",
    "y_train = y_train.reset_index(drop=True)\n",
    "y_test = y_test.reset_index(drop=True)"
   ]
  },
  {
   "cell_type": "code",
   "execution_count": 78,
   "metadata": {},
   "outputs": [],
   "source": [
    "X_train.to_csv('data/balanced data/x_train_gld.txt', sep=',', header=False, index=False)\n",
    "y_train.to_csv('data/balanced data/y_train_gld.txt', header=False, index=False)\n",
    "X_test.to_csv('data/balanced data/x_test_gld.txt', sep=',', header=False, index=False)\n",
    "y_test.to_csv('data/balanced data/y_test_gld.txt', header=False, index=False)"
   ]
  }
 ],
 "metadata": {
  "kernelspec": {
   "display_name": "Python 3",
   "language": "python",
   "name": "python3"
  },
  "language_info": {
   "codemirror_mode": {
    "name": "ipython",
    "version": 3
   },
   "file_extension": ".py",
   "mimetype": "text/x-python",
   "name": "python",
   "nbconvert_exporter": "python",
   "pygments_lexer": "ipython3",
   "version": "3.11.2"
  }
 },
 "nbformat": 4,
 "nbformat_minor": 2
}
