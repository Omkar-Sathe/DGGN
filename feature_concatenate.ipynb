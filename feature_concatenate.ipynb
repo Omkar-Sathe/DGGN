{
 "cells": [
  {
   "cell_type": "code",
   "execution_count": 1,
   "metadata": {
    "scrolled": true
   },
   "outputs": [
    {
     "name": "stdout",
     "output_type": "stream",
     "text": [
      "WARNING:tensorflow:From c:\\Users\\Omkar Sathe\\AppData\\Local\\Programs\\Python\\Python311\\Lib\\site-packages\\keras\\src\\losses.py:2976: The name tf.losses.sparse_softmax_cross_entropy is deprecated. Please use tf.compat.v1.losses.sparse_softmax_cross_entropy instead.\n",
      "\n",
      "WARNING:tensorflow:From c:\\Users\\Omkar Sathe\\Desktop\\gene disease prediction\\MHAGP\\util.py:4: The name tf.disable_v2_behavior is deprecated. Please use tf.compat.v1.disable_v2_behavior instead.\n",
      "\n",
      "WARNING:tensorflow:From c:\\Users\\Omkar Sathe\\AppData\\Local\\Programs\\Python\\Python311\\Lib\\site-packages\\tensorflow\\python\\compat\\v2_compat.py:108: disable_resource_variables (from tensorflow.python.ops.variable_scope) is deprecated and will be removed in a future version.\n",
      "Instructions for updating:\n",
      "non-resource variables are not supported in the long term\n"
     ]
    }
   ],
   "source": [
    "import warnings  \n",
    "with warnings.catch_warnings():\n",
    "    warnings.filterwarnings(\"ignore\",category=FutureWarning)\n",
    "    import numpy as np\n",
    "    import random\n",
    "    from util import normalization\n",
    "    import time"
   ]
  },
  {
   "cell_type": "code",
   "execution_count": 2,
   "metadata": {},
   "outputs": [],
   "source": [
    "path='./data/feature/'"
   ]
  },
  {
   "cell_type": "markdown",
   "metadata": {},
   "source": [
    "### GD network"
   ]
  },
  {
   "cell_type": "code",
   "execution_count": 4,
   "metadata": {
    "collapsed": true
   },
   "outputs": [
    {
     "name": "stderr",
     "output_type": "stream",
     "text": [
      "c:\\Users\\Omkar Sathe\\AppData\\Local\\Programs\\Python\\Python311\\Lib\\site-packages\\sklearn\\preprocessing\\_data.py:240: UserWarning: Numerical issues were encountered when centering the data and might not be solved. Dataset may contain too large values. You may need to prescale your features.\n",
      "  warnings.warn(\n",
      "c:\\Users\\Omkar Sathe\\AppData\\Local\\Programs\\Python\\Python311\\Lib\\site-packages\\sklearn\\preprocessing\\_data.py:259: UserWarning: Numerical issues were encountered when scaling the data and might not be solved. The standard deviation of the data is probably very close to 0. \n",
      "  warnings.warn(\n",
      "c:\\Users\\Omkar Sathe\\AppData\\Local\\Programs\\Python\\Python311\\Lib\\site-packages\\sklearn\\preprocessing\\_data.py:240: UserWarning: Numerical issues were encountered when centering the data and might not be solved. Dataset may contain too large values. You may need to prescale your features.\n",
      "  warnings.warn(\n",
      "c:\\Users\\Omkar Sathe\\AppData\\Local\\Programs\\Python\\Python311\\Lib\\site-packages\\sklearn\\preprocessing\\_data.py:259: UserWarning: Numerical issues were encountered when scaling the data and might not be solved. The standard deviation of the data is probably very close to 0. \n",
      "  warnings.warn(\n",
      "c:\\Users\\Omkar Sathe\\AppData\\Local\\Programs\\Python\\Python311\\Lib\\site-packages\\sklearn\\preprocessing\\_data.py:240: UserWarning: Numerical issues were encountered when centering the data and might not be solved. Dataset may contain too large values. You may need to prescale your features.\n",
      "  warnings.warn(\n",
      "c:\\Users\\Omkar Sathe\\AppData\\Local\\Programs\\Python\\Python311\\Lib\\site-packages\\sklearn\\preprocessing\\_data.py:259: UserWarning: Numerical issues were encountered when scaling the data and might not be solved. The standard deviation of the data is probably very close to 0. \n",
      "  warnings.warn(\n",
      "c:\\Users\\Omkar Sathe\\AppData\\Local\\Programs\\Python\\Python311\\Lib\\site-packages\\sklearn\\preprocessing\\_data.py:240: UserWarning: Numerical issues were encountered when centering the data and might not be solved. Dataset may contain too large values. You may need to prescale your features.\n",
      "  warnings.warn(\n",
      "c:\\Users\\Omkar Sathe\\AppData\\Local\\Programs\\Python\\Python311\\Lib\\site-packages\\sklearn\\preprocessing\\_data.py:259: UserWarning: Numerical issues were encountered when scaling the data and might not be solved. The standard deviation of the data is probably very close to 0. \n",
      "  warnings.warn(\n",
      "c:\\Users\\Omkar Sathe\\AppData\\Local\\Programs\\Python\\Python311\\Lib\\site-packages\\sklearn\\preprocessing\\_data.py:240: UserWarning: Numerical issues were encountered when centering the data and might not be solved. Dataset may contain too large values. You may need to prescale your features.\n",
      "  warnings.warn(\n",
      "c:\\Users\\Omkar Sathe\\AppData\\Local\\Programs\\Python\\Python311\\Lib\\site-packages\\sklearn\\preprocessing\\_data.py:259: UserWarning: Numerical issues were encountered when scaling the data and might not be solved. The standard deviation of the data is probably very close to 0. \n",
      "  warnings.warn(\n",
      "c:\\Users\\Omkar Sathe\\AppData\\Local\\Programs\\Python\\Python311\\Lib\\site-packages\\sklearn\\preprocessing\\_data.py:240: UserWarning: Numerical issues were encountered when centering the data and might not be solved. Dataset may contain too large values. You may need to prescale your features.\n",
      "  warnings.warn(\n",
      "c:\\Users\\Omkar Sathe\\AppData\\Local\\Programs\\Python\\Python311\\Lib\\site-packages\\sklearn\\preprocessing\\_data.py:259: UserWarning: Numerical issues were encountered when scaling the data and might not be solved. The standard deviation of the data is probably very close to 0. \n",
      "  warnings.warn(\n"
     ]
    },
    {
     "data": {
      "text/plain": [
       "((9112, 256), (2280, 256))"
      ]
     },
     "execution_count": 4,
     "metadata": {},
     "output_type": "execute_result"
    }
   ],
   "source": [
    "X_train_gd_node2vec = normalization(np.load('data/X_train_gd_node2vec.npy')) \n",
    "X_train_gd_line = normalization(np.load('data/X_train_gd_line.npy'))      \n",
    "X_train_gd_nl = np.concatenate((X_train_gd_node2vec,X_train_gd_line),axis=1)\n",
    "\n",
    "X_test_gd_node2vec = normalization(np.load('data/X_test_gd_node2vec.npy'))    \n",
    "X_test_gd_line = normalization(np.load('data/X_test_gd_line.npy')) \n",
    "X_test_gd_nl = np.concatenate((X_test_gd_node2vec,X_test_gd_line),axis=1)\n",
    "\n",
    "X_train_gd_nl = normalization(X_train_gd_nl) \n",
    "X_test_gd_nl = normalization(X_test_gd_nl)\n",
    "X_train_gd_nl.shape, X_test_gd_nl.shape     "
   ]
  },
  {
   "cell_type": "code",
   "execution_count": 6,
   "metadata": {},
   "outputs": [],
   "source": [
    "np.save('data/feature/X_train_gd_nl.npy',X_train_gd_nl)\n",
    "np.save('data/feature/X_test_gd_nl.npy',X_test_gd_nl)"
   ]
  },
  {
   "cell_type": "markdown",
   "metadata": {},
   "source": [
    "### GLD network"
   ]
  },
  {
   "cell_type": "code",
   "execution_count": 7,
   "metadata": {
    "collapsed": true
   },
   "outputs": [
    {
     "ename": "FileNotFoundError",
     "evalue": "[Errno 2] No such file or directory: 'data/X_train_gld_node2vec.npy'",
     "output_type": "error",
     "traceback": [
      "\u001b[1;31m---------------------------------------------------------------------------\u001b[0m",
      "\u001b[1;31mFileNotFoundError\u001b[0m                         Traceback (most recent call last)",
      "Cell \u001b[1;32mIn[7], line 1\u001b[0m\n\u001b[1;32m----> 1\u001b[0m X_train_gld_node2vec \u001b[38;5;241m=\u001b[39m normalization(\u001b[43mnp\u001b[49m\u001b[38;5;241;43m.\u001b[39;49m\u001b[43mload\u001b[49m\u001b[43m(\u001b[49m\u001b[38;5;124;43m'\u001b[39;49m\u001b[38;5;124;43mdata/X_train_gld_node2vec.npy\u001b[39;49m\u001b[38;5;124;43m'\u001b[39;49m\u001b[43m)\u001b[49m) \n\u001b[0;32m      2\u001b[0m X_train_gld_line \u001b[38;5;241m=\u001b[39m normalization(np\u001b[38;5;241m.\u001b[39mload(\u001b[38;5;124m'\u001b[39m\u001b[38;5;124mdata/X_train_gld_line.npy\u001b[39m\u001b[38;5;124m'\u001b[39m))      \n\u001b[0;32m      3\u001b[0m X_train_gld_nl \u001b[38;5;241m=\u001b[39m np\u001b[38;5;241m.\u001b[39mconcatenate((X_train_gld_node2vec,X_train_gld_line),axis\u001b[38;5;241m=\u001b[39m\u001b[38;5;241m1\u001b[39m)\n",
      "File \u001b[1;32mc:\\Users\\Omkar Sathe\\AppData\\Local\\Programs\\Python\\Python311\\Lib\\site-packages\\numpy\\lib\\npyio.py:405\u001b[0m, in \u001b[0;36mload\u001b[1;34m(file, mmap_mode, allow_pickle, fix_imports, encoding, max_header_size)\u001b[0m\n\u001b[0;32m    403\u001b[0m     own_fid \u001b[38;5;241m=\u001b[39m \u001b[38;5;28;01mFalse\u001b[39;00m\n\u001b[0;32m    404\u001b[0m \u001b[38;5;28;01melse\u001b[39;00m:\n\u001b[1;32m--> 405\u001b[0m     fid \u001b[38;5;241m=\u001b[39m stack\u001b[38;5;241m.\u001b[39menter_context(\u001b[38;5;28;43mopen\u001b[39;49m\u001b[43m(\u001b[49m\u001b[43mos_fspath\u001b[49m\u001b[43m(\u001b[49m\u001b[43mfile\u001b[49m\u001b[43m)\u001b[49m\u001b[43m,\u001b[49m\u001b[43m \u001b[49m\u001b[38;5;124;43m\"\u001b[39;49m\u001b[38;5;124;43mrb\u001b[39;49m\u001b[38;5;124;43m\"\u001b[39;49m\u001b[43m)\u001b[49m)\n\u001b[0;32m    406\u001b[0m     own_fid \u001b[38;5;241m=\u001b[39m \u001b[38;5;28;01mTrue\u001b[39;00m\n\u001b[0;32m    408\u001b[0m \u001b[38;5;66;03m# Code to distinguish from NumPy binary files and pickles.\u001b[39;00m\n",
      "\u001b[1;31mFileNotFoundError\u001b[0m: [Errno 2] No such file or directory: 'data/X_train_gld_node2vec.npy'"
     ]
    }
   ],
   "source": [
    "X_train_gld_node2vec = normalization(np.load('data/X_train_gld_node2vec.npy')) \n",
    "X_train_gld_line = normalization(np.load('data/X_train_gld_line.npy'))      \n",
    "X_train_gld_nl = np.concatenate((X_train_gld_node2vec,X_train_gld_line),axis=1)\n",
    "\n",
    "X_test_gld_node2vec = normalization(np.load('data/X_test_gld_node2vec.npy')) \n",
    "X_test_gld_line = normalization(np.load('data/X_test_gld_line.npy')) \n",
    "X_test_gld_nl = np.concatenate((X_test_gld_node2vec,X_test_gld_line),axis=1)\n",
    "\n",
    "X_train_gld_nl = normalization(X_train_gld_nl)   \n",
    "X_test_gld_nl = normalization(X_test_gld_nl)\n",
    "X_train_gld_nl.shape, X_test_gld_nl.shape    "
   ]
  },
  {
   "cell_type": "code",
   "execution_count": 8,
   "metadata": {},
   "outputs": [],
   "source": [
    "np.save('data/feature/X_train_gld_nl.npy',X_train_gld_nl)\n",
    "np.save('data/feature/X_test_gld_nl.npy',X_test_gld_nl)"
   ]
  },
  {
   "cell_type": "markdown",
   "metadata": {},
   "source": [
    "### GMD network"
   ]
  },
  {
   "cell_type": "code",
   "execution_count": null,
   "metadata": {
    "collapsed": true
   },
   "outputs": [],
   "source": [
    "X_train_gmd_node2vec = normalization(np.load('data/network_adj/X_train_gmd_node2vec.npy'))  \n",
    "X_train_gmd_line = normalization(np.load('data/network_adj/X_train_gmd_line.npy'))    \n",
    "X_train_gmd_nl = np.concatenate((X_train_gmd_node2vec,X_train_gmd_line),axis=1)\n",
    "\n",
    "X_test_gmd_node2vec = normalization(np.load('data/network_adj/X_test_gmd_node2vec.npy'))       \n",
    "X_test_gmd_line = normalization(np.load('data/network_adj/X_test_gmd_line.npy')) \n",
    "X_test_gmd_nl = np.concatenate((X_test_gmd_node2vec,X_test_gmd_line),axis=1)\n",
    "\n",
    "X_train_gmd_nl = normalization(X_train_gmd_nl)    \n",
    "X_test_gmd_nl = normalization(X_test_gmd_nl)\n",
    "X_train_gmd_nl.shape, X_test_gmd_nl.shape       "
   ]
  },
  {
   "cell_type": "code",
   "execution_count": 10,
   "metadata": {},
   "outputs": [],
   "source": [
    "np.save('data/feature/X_train_gmd_nl.npy',X_train_gmd_nl)\n",
    "np.save('data/feature/X_test_gmd_nl.npy',X_test_gmd_nl)"
   ]
  }
 ],
 "metadata": {
  "kernelspec": {
   "display_name": "Python 3",
   "language": "python",
   "name": "python3"
  },
  "language_info": {
   "codemirror_mode": {
    "name": "ipython",
    "version": 3
   },
   "file_extension": ".py",
   "mimetype": "text/x-python",
   "name": "python",
   "nbconvert_exporter": "python",
   "pygments_lexer": "ipython3",
   "version": "3.11.2"
  }
 },
 "nbformat": 4,
 "nbformat_minor": 2
}
