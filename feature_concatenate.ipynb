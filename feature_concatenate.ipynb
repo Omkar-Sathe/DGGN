{
 "cells": [
  {
   "cell_type": "code",
   "execution_count": 1,
   "metadata": {
    "scrolled": true
   },
   "outputs": [
    {
     "name": "stdout",
     "output_type": "stream",
     "text": [
      "WARNING:tensorflow:From c:\\Users\\Omkar Sathe\\AppData\\Local\\Programs\\Python\\Python311\\Lib\\site-packages\\keras\\src\\losses.py:2976: The name tf.losses.sparse_softmax_cross_entropy is deprecated. Please use tf.compat.v1.losses.sparse_softmax_cross_entropy instead.\n",
      "\n",
      "WARNING:tensorflow:From c:\\Users\\Omkar Sathe\\Desktop\\gene disease prediction\\DisGeneGraph\\DGGN\\util.py:4: The name tf.disable_v2_behavior is deprecated. Please use tf.compat.v1.disable_v2_behavior instead.\n",
      "\n",
      "WARNING:tensorflow:From c:\\Users\\Omkar Sathe\\AppData\\Local\\Programs\\Python\\Python311\\Lib\\site-packages\\tensorflow\\python\\compat\\v2_compat.py:108: disable_resource_variables (from tensorflow.python.ops.variable_scope) is deprecated and will be removed in a future version.\n",
      "Instructions for updating:\n",
      "non-resource variables are not supported in the long term\n"
     ]
    }
   ],
   "source": [
    "import warnings  \n",
    "with warnings.catch_warnings():\n",
    "    warnings.filterwarnings(\"ignore\",category=FutureWarning)\n",
    "    import numpy as np\n",
    "    import random\n",
    "    from util import normalization\n",
    "    import time"
   ]
  },
  {
   "cell_type": "code",
   "execution_count": 2,
   "metadata": {},
   "outputs": [],
   "source": [
    "path='./data/feature/'"
   ]
  },
  {
   "cell_type": "markdown",
   "metadata": {},
   "source": [
    "### GD network"
   ]
  },
  {
   "cell_type": "code",
   "execution_count": 3,
   "metadata": {
    "collapsed": true
   },
   "outputs": [
    {
     "name": "stderr",
     "output_type": "stream",
     "text": [
      "c:\\Users\\Omkar Sathe\\AppData\\Local\\Programs\\Python\\Python311\\Lib\\site-packages\\sklearn\\preprocessing\\_data.py:240: UserWarning: Numerical issues were encountered when centering the data and might not be solved. Dataset may contain too large values. You may need to prescale your features.\n",
      "  warnings.warn(\n",
      "c:\\Users\\Omkar Sathe\\AppData\\Local\\Programs\\Python\\Python311\\Lib\\site-packages\\sklearn\\preprocessing\\_data.py:259: UserWarning: Numerical issues were encountered when scaling the data and might not be solved. The standard deviation of the data is probably very close to 0. \n",
      "  warnings.warn(\n",
      "c:\\Users\\Omkar Sathe\\AppData\\Local\\Programs\\Python\\Python311\\Lib\\site-packages\\sklearn\\preprocessing\\_data.py:240: UserWarning: Numerical issues were encountered when centering the data and might not be solved. Dataset may contain too large values. You may need to prescale your features.\n",
      "  warnings.warn(\n",
      "c:\\Users\\Omkar Sathe\\AppData\\Local\\Programs\\Python\\Python311\\Lib\\site-packages\\sklearn\\preprocessing\\_data.py:259: UserWarning: Numerical issues were encountered when scaling the data and might not be solved. The standard deviation of the data is probably very close to 0. \n",
      "  warnings.warn(\n",
      "c:\\Users\\Omkar Sathe\\AppData\\Local\\Programs\\Python\\Python311\\Lib\\site-packages\\sklearn\\preprocessing\\_data.py:240: UserWarning: Numerical issues were encountered when centering the data and might not be solved. Dataset may contain too large values. You may need to prescale your features.\n",
      "  warnings.warn(\n",
      "c:\\Users\\Omkar Sathe\\AppData\\Local\\Programs\\Python\\Python311\\Lib\\site-packages\\sklearn\\preprocessing\\_data.py:259: UserWarning: Numerical issues were encountered when scaling the data and might not be solved. The standard deviation of the data is probably very close to 0. \n",
      "  warnings.warn(\n",
      "c:\\Users\\Omkar Sathe\\AppData\\Local\\Programs\\Python\\Python311\\Lib\\site-packages\\sklearn\\preprocessing\\_data.py:240: UserWarning: Numerical issues were encountered when centering the data and might not be solved. Dataset may contain too large values. You may need to prescale your features.\n",
      "  warnings.warn(\n",
      "c:\\Users\\Omkar Sathe\\AppData\\Local\\Programs\\Python\\Python311\\Lib\\site-packages\\sklearn\\preprocessing\\_data.py:259: UserWarning: Numerical issues were encountered when scaling the data and might not be solved. The standard deviation of the data is probably very close to 0. \n",
      "  warnings.warn(\n",
      "c:\\Users\\Omkar Sathe\\AppData\\Local\\Programs\\Python\\Python311\\Lib\\site-packages\\sklearn\\preprocessing\\_data.py:240: UserWarning: Numerical issues were encountered when centering the data and might not be solved. Dataset may contain too large values. You may need to prescale your features.\n",
      "  warnings.warn(\n",
      "c:\\Users\\Omkar Sathe\\AppData\\Local\\Programs\\Python\\Python311\\Lib\\site-packages\\sklearn\\preprocessing\\_data.py:259: UserWarning: Numerical issues were encountered when scaling the data and might not be solved. The standard deviation of the data is probably very close to 0. \n",
      "  warnings.warn(\n",
      "c:\\Users\\Omkar Sathe\\AppData\\Local\\Programs\\Python\\Python311\\Lib\\site-packages\\sklearn\\preprocessing\\_data.py:240: UserWarning: Numerical issues were encountered when centering the data and might not be solved. Dataset may contain too large values. You may need to prescale your features.\n",
      "  warnings.warn(\n",
      "c:\\Users\\Omkar Sathe\\AppData\\Local\\Programs\\Python\\Python311\\Lib\\site-packages\\sklearn\\preprocessing\\_data.py:259: UserWarning: Numerical issues were encountered when scaling the data and might not be solved. The standard deviation of the data is probably very close to 0. \n",
      "  warnings.warn(\n"
     ]
    },
    {
     "data": {
      "text/plain": [
       "((9112, 256), (2280, 256))"
      ]
     },
     "execution_count": 3,
     "metadata": {},
     "output_type": "execute_result"
    }
   ],
   "source": [
    "X_train_gd_node2vec = normalization(np.load('data/X_train_gd_node2vec.npy')) \n",
    "X_train_gd_line = normalization(np.load('data/X_train_gd_line.npy'))      \n",
    "X_train_gd_nl = np.concatenate((X_train_gd_node2vec,X_train_gd_line),axis=1)\n",
    "\n",
    "X_test_gd_node2vec = normalization(np.load('data/X_test_gd_node2vec.npy'))    \n",
    "X_test_gd_line = normalization(np.load('data/X_test_gd_line.npy')) \n",
    "X_test_gd_nl = np.concatenate((X_test_gd_node2vec,X_test_gd_line),axis=1)\n",
    "\n",
    "X_train_gd_nl = normalization(X_train_gd_nl) \n",
    "X_test_gd_nl = normalization(X_test_gd_nl)\n",
    "X_train_gd_nl.shape, X_test_gd_nl.shape     "
   ]
  },
  {
   "cell_type": "code",
   "execution_count": 5,
   "metadata": {},
   "outputs": [
    {
     "name": "stdout",
     "output_type": "stream",
     "text": [
      "[-1.6442317e-01 -3.7595522e-01 -9.4612509e-01 -1.5896027e+00\n",
      "  3.5894865e-01 -1.0842941e+00 -1.5771542e+00  2.1062879e-01\n",
      " -1.5439751e+00  5.1353025e-01 -6.0746366e-01  6.2946808e-01\n",
      " -4.1208214e-01  2.0466136e-02  1.0816803e+00 -2.0112817e+00\n",
      "  2.3897953e-01 -2.6881093e-01 -5.7066846e-01 -9.8785275e-01\n",
      " -2.7105272e-01 -1.9948788e+00  4.1531956e-01  1.4904268e+00\n",
      "  2.8850347e-01  1.1844357e+00  5.9106928e-01 -1.3220958e+00\n",
      "  1.2177514e+00  2.0917650e-01 -5.7001615e-01 -1.5403688e-01\n",
      "  6.1537180e-02 -3.1009603e-01 -2.2358562e-01  5.8691633e-01\n",
      " -2.1378559e-01 -1.2934417e+00  1.5816113e-01 -1.3415934e+00\n",
      "  6.6742110e-01  9.8966551e-01 -2.5713474e-01  6.4196956e-01\n",
      "  8.0835891e-01 -7.6739717e-01 -1.2362399e+00  3.2944620e-01\n",
      "  2.1086435e+00  5.3472197e-01  9.2453432e-01 -8.7625170e-01\n",
      "  1.4436907e+00  1.3939650e+00 -5.7929063e-01  1.8720064e+00\n",
      " -6.4977819e-01 -1.3023694e+00 -5.1822668e-01  2.2914219e+00\n",
      "  2.7537260e-02 -4.0359277e-01  5.7219994e-01  6.9839627e-01\n",
      "  2.1658461e-01 -9.5741814e-01 -3.9895657e-01  2.6702368e-01\n",
      " -2.0635912e+00  2.2849040e-01  1.0310174e-01  1.3365020e-01\n",
      " -1.0252728e+00  2.6028767e+00  3.7025827e-01  1.3865325e+00\n",
      "  2.5645873e-01  7.3789263e-01  1.4613895e+00 -9.3193725e-02\n",
      "  2.7620295e-01 -1.4395152e-01  2.6650909e-01  9.7080126e-02\n",
      "  6.8050581e-01 -1.3285753e-01  1.7221090e+00 -2.2406425e-02\n",
      " -1.1316657e+00 -6.4467266e-02  1.1901234e+00  2.1115472e+00\n",
      " -1.2202401e+00  2.8805763e-01 -1.1651820e+00  6.3347095e-01\n",
      "  5.7771564e-01  1.2484417e+00 -9.6743816e-01 -5.4663533e-01\n",
      "  3.2517308e-01 -5.7267594e-01  1.6406398e-01  1.4235371e-03\n",
      " -2.9260162e-01 -3.7275165e-01 -1.6768217e-02 -1.4642948e-01\n",
      "  5.6629837e-01 -1.4218870e+00 -1.0741704e+00  1.7367461e+00\n",
      " -2.1337321e+00  1.1149385e+00 -7.9681879e-01 -1.7512557e-01\n",
      "  5.8409196e-01 -3.2815105e-01  1.1167775e+00 -2.2345774e-01\n",
      "  4.3317270e-01  7.4354452e-01  5.9058350e-01  5.5738020e-01\n",
      "  9.6501040e-01 -8.7730604e-01 -1.5605791e+00  1.4241319e+00\n",
      " -6.8085760e-01 -1.3634386e+00  1.0609269e+00  6.9795227e-01\n",
      "  1.9572508e-01  1.6861093e+00 -1.5159491e+00  2.2540718e-01\n",
      " -1.6361699e+00 -1.5978093e-01 -1.2004980e+00 -1.1322467e+00\n",
      " -1.5980659e+00 -1.4130791e+00 -1.5336664e+00  1.2062947e+00\n",
      "  1.0572660e+00 -9.0867525e-01  1.1670120e+00  1.5804566e+00\n",
      " -7.4720517e-02 -7.5034297e-01  1.1590869e+00 -3.5821542e-01\n",
      " -1.0034807e+00 -9.3814695e-01  1.5121913e+00  4.0289658e-01\n",
      "  8.8486922e-01 -9.4359529e-01 -3.7590048e-01 -9.5578760e-01\n",
      "  1.3539263e+00 -1.4748809e+00  5.1225990e-01  3.1209248e-01\n",
      " -1.7189908e+00 -1.2693354e+00 -3.8247293e-01 -1.4569379e-01\n",
      "  1.6559766e-01  7.0514098e-02  4.3145290e-01  8.8837874e-01\n",
      " -7.6314229e-01  2.4843395e-01  1.2208791e+00 -1.3281991e+00\n",
      "  1.6402693e+00 -1.4588971e+00  3.1412259e-01  1.4592351e+00\n",
      " -8.0172241e-01 -2.2839947e-02 -1.2336626e+00  3.0822235e-01\n",
      "  5.4319030e-01  4.2660233e-01 -6.6679364e-01  1.7432511e+00\n",
      " -1.4023288e+00  7.0486206e-01  1.1567070e-01 -2.4337080e-01\n",
      " -1.4407700e+00  6.7050034e-01  1.5456622e+00 -6.9032237e-02\n",
      "  9.9337414e-02 -1.5958053e-01  1.7071383e+00 -1.3077234e+00\n",
      "  8.4353572e-01 -4.8520993e-02 -1.3357046e+00  4.6100703e-01\n",
      " -3.7771207e-01 -6.9483453e-01  6.5349036e-01  8.9728075e-01\n",
      " -9.9771488e-01  4.7894230e-01 -1.4889973e+00  5.5546772e-01\n",
      "  8.4064907e-01  1.3427802e+00  1.2353612e+00 -2.0655282e+00\n",
      "  1.7999482e+00 -1.7612387e+00  1.0706220e-01 -9.1716421e-01\n",
      " -7.1177745e-01 -1.9722573e-01 -5.7332170e-01 -5.8819890e-01\n",
      "  1.2738035e+00 -1.6058927e+00  1.4482024e+00 -8.8598013e-01\n",
      "  1.0302631e+00  1.9095963e-02 -1.6952372e-01 -9.5697768e-02\n",
      " -1.0050412e+00  2.1075900e-01  2.5331056e-01  8.2714063e-01\n",
      " -2.7637985e-01 -1.8990964e-01  7.7544463e-01  7.0448214e-01\n",
      " -2.8210452e-01 -1.0446006e+00 -1.2845460e+00 -6.2255043e-01\n",
      "  1.3865064e-01 -1.2175939e+00  2.6376396e-01 -1.9479156e-01\n",
      "  7.1840489e-01  1.0460567e+00  1.5565459e+00 -1.2425308e+00\n",
      "  9.0614563e-01 -3.0846581e-01  1.8450139e+00  4.0743390e-01]\n"
     ]
    }
   ],
   "source": [
    "print(X_test_gd_nl[0])"
   ]
  },
  {
   "cell_type": "code",
   "execution_count": 6,
   "metadata": {},
   "outputs": [],
   "source": [
    "np.save('data/feature/X_train_gd_nl.npy',X_train_gd_nl)\n",
    "np.save('data/feature/X_test_gd_nl.npy',X_test_gd_nl)"
   ]
  },
  {
   "cell_type": "markdown",
   "metadata": {},
   "source": [
    "### GLD network"
   ]
  },
  {
   "cell_type": "code",
   "execution_count": 3,
   "metadata": {
    "collapsed": true
   },
   "outputs": [
    {
     "name": "stderr",
     "output_type": "stream",
     "text": [
      "c:\\Users\\Omkar Sathe\\AppData\\Local\\Programs\\Python\\Python311\\Lib\\site-packages\\sklearn\\preprocessing\\_data.py:240: UserWarning: Numerical issues were encountered when centering the data and might not be solved. Dataset may contain too large values. You may need to prescale your features.\n",
      "  warnings.warn(\n",
      "c:\\Users\\Omkar Sathe\\AppData\\Local\\Programs\\Python\\Python311\\Lib\\site-packages\\sklearn\\preprocessing\\_data.py:259: UserWarning: Numerical issues were encountered when scaling the data and might not be solved. The standard deviation of the data is probably very close to 0. \n",
      "  warnings.warn(\n",
      "c:\\Users\\Omkar Sathe\\AppData\\Local\\Programs\\Python\\Python311\\Lib\\site-packages\\sklearn\\preprocessing\\_data.py:240: UserWarning: Numerical issues were encountered when centering the data and might not be solved. Dataset may contain too large values. You may need to prescale your features.\n",
      "  warnings.warn(\n",
      "c:\\Users\\Omkar Sathe\\AppData\\Local\\Programs\\Python\\Python311\\Lib\\site-packages\\sklearn\\preprocessing\\_data.py:259: UserWarning: Numerical issues were encountered when scaling the data and might not be solved. The standard deviation of the data is probably very close to 0. \n",
      "  warnings.warn(\n",
      "c:\\Users\\Omkar Sathe\\AppData\\Local\\Programs\\Python\\Python311\\Lib\\site-packages\\sklearn\\preprocessing\\_data.py:240: UserWarning: Numerical issues were encountered when centering the data and might not be solved. Dataset may contain too large values. You may need to prescale your features.\n",
      "  warnings.warn(\n",
      "c:\\Users\\Omkar Sathe\\AppData\\Local\\Programs\\Python\\Python311\\Lib\\site-packages\\sklearn\\preprocessing\\_data.py:259: UserWarning: Numerical issues were encountered when scaling the data and might not be solved. The standard deviation of the data is probably very close to 0. \n",
      "  warnings.warn(\n",
      "c:\\Users\\Omkar Sathe\\AppData\\Local\\Programs\\Python\\Python311\\Lib\\site-packages\\sklearn\\preprocessing\\_data.py:240: UserWarning: Numerical issues were encountered when centering the data and might not be solved. Dataset may contain too large values. You may need to prescale your features.\n",
      "  warnings.warn(\n",
      "c:\\Users\\Omkar Sathe\\AppData\\Local\\Programs\\Python\\Python311\\Lib\\site-packages\\sklearn\\preprocessing\\_data.py:259: UserWarning: Numerical issues were encountered when scaling the data and might not be solved. The standard deviation of the data is probably very close to 0. \n",
      "  warnings.warn(\n",
      "c:\\Users\\Omkar Sathe\\AppData\\Local\\Programs\\Python\\Python311\\Lib\\site-packages\\sklearn\\preprocessing\\_data.py:240: UserWarning: Numerical issues were encountered when centering the data and might not be solved. Dataset may contain too large values. You may need to prescale your features.\n",
      "  warnings.warn(\n",
      "c:\\Users\\Omkar Sathe\\AppData\\Local\\Programs\\Python\\Python311\\Lib\\site-packages\\sklearn\\preprocessing\\_data.py:259: UserWarning: Numerical issues were encountered when scaling the data and might not be solved. The standard deviation of the data is probably very close to 0. \n",
      "  warnings.warn(\n",
      "c:\\Users\\Omkar Sathe\\AppData\\Local\\Programs\\Python\\Python311\\Lib\\site-packages\\sklearn\\preprocessing\\_data.py:240: UserWarning: Numerical issues were encountered when centering the data and might not be solved. Dataset may contain too large values. You may need to prescale your features.\n",
      "  warnings.warn(\n",
      "c:\\Users\\Omkar Sathe\\AppData\\Local\\Programs\\Python\\Python311\\Lib\\site-packages\\sklearn\\preprocessing\\_data.py:259: UserWarning: Numerical issues were encountered when scaling the data and might not be solved. The standard deviation of the data is probably very close to 0. \n",
      "  warnings.warn(\n"
     ]
    },
    {
     "data": {
      "text/plain": [
       "((9081, 256), (2271, 256))"
      ]
     },
     "execution_count": 3,
     "metadata": {},
     "output_type": "execute_result"
    }
   ],
   "source": [
    "X_train_gld_node2vec = normalization(np.load('data/node2vec and line/gld/X_train_gld_node2vec.npy')) \n",
    "X_train_gld_line = normalization(np.load('data/node2vec and line/gld/X_train_gld_line.npy'))      \n",
    "X_train_gld_nl = np.concatenate((X_train_gld_node2vec,X_train_gld_line),axis=1)\n",
    "\n",
    "X_test_gld_node2vec = normalization(np.load('data/node2vec and line/gld/X_test_gld_node2vec.npy')) \n",
    "X_test_gld_line = normalization(np.load('data/node2vec and line/gld/X_test_gld_line.npy')) \n",
    "X_test_gld_nl = np.concatenate((X_test_gld_node2vec,X_test_gld_line),axis=1)\n",
    "\n",
    "X_train_gld_nl = normalization(X_train_gld_nl)   \n",
    "X_test_gld_nl = normalization(X_test_gld_nl)\n",
    "X_train_gld_nl.shape, X_test_gld_nl.shape    "
   ]
  },
  {
   "cell_type": "code",
   "execution_count": 4,
   "metadata": {},
   "outputs": [],
   "source": [
    "np.save('data/feature/X_train_gld_nl.npy',X_train_gld_nl)\n",
    "np.save('data/feature/X_test_gld_nl.npy',X_test_gld_nl)"
   ]
  },
  {
   "cell_type": "markdown",
   "metadata": {},
   "source": [
    "### GMD network"
   ]
  },
  {
   "cell_type": "code",
   "execution_count": 5,
   "metadata": {
    "collapsed": true
   },
   "outputs": [
    {
     "name": "stderr",
     "output_type": "stream",
     "text": [
      "c:\\Users\\Omkar Sathe\\AppData\\Local\\Programs\\Python\\Python311\\Lib\\site-packages\\sklearn\\preprocessing\\_data.py:240: UserWarning: Numerical issues were encountered when centering the data and might not be solved. Dataset may contain too large values. You may need to prescale your features.\n",
      "  warnings.warn(\n",
      "c:\\Users\\Omkar Sathe\\AppData\\Local\\Programs\\Python\\Python311\\Lib\\site-packages\\sklearn\\preprocessing\\_data.py:259: UserWarning: Numerical issues were encountered when scaling the data and might not be solved. The standard deviation of the data is probably very close to 0. \n",
      "  warnings.warn(\n",
      "c:\\Users\\Omkar Sathe\\AppData\\Local\\Programs\\Python\\Python311\\Lib\\site-packages\\sklearn\\preprocessing\\_data.py:240: UserWarning: Numerical issues were encountered when centering the data and might not be solved. Dataset may contain too large values. You may need to prescale your features.\n",
      "  warnings.warn(\n",
      "c:\\Users\\Omkar Sathe\\AppData\\Local\\Programs\\Python\\Python311\\Lib\\site-packages\\sklearn\\preprocessing\\_data.py:259: UserWarning: Numerical issues were encountered when scaling the data and might not be solved. The standard deviation of the data is probably very close to 0. \n",
      "  warnings.warn(\n",
      "c:\\Users\\Omkar Sathe\\AppData\\Local\\Programs\\Python\\Python311\\Lib\\site-packages\\sklearn\\preprocessing\\_data.py:240: UserWarning: Numerical issues were encountered when centering the data and might not be solved. Dataset may contain too large values. You may need to prescale your features.\n",
      "  warnings.warn(\n",
      "c:\\Users\\Omkar Sathe\\AppData\\Local\\Programs\\Python\\Python311\\Lib\\site-packages\\sklearn\\preprocessing\\_data.py:259: UserWarning: Numerical issues were encountered when scaling the data and might not be solved. The standard deviation of the data is probably very close to 0. \n",
      "  warnings.warn(\n",
      "c:\\Users\\Omkar Sathe\\AppData\\Local\\Programs\\Python\\Python311\\Lib\\site-packages\\sklearn\\preprocessing\\_data.py:240: UserWarning: Numerical issues were encountered when centering the data and might not be solved. Dataset may contain too large values. You may need to prescale your features.\n",
      "  warnings.warn(\n",
      "c:\\Users\\Omkar Sathe\\AppData\\Local\\Programs\\Python\\Python311\\Lib\\site-packages\\sklearn\\preprocessing\\_data.py:259: UserWarning: Numerical issues were encountered when scaling the data and might not be solved. The standard deviation of the data is probably very close to 0. \n",
      "  warnings.warn(\n",
      "c:\\Users\\Omkar Sathe\\AppData\\Local\\Programs\\Python\\Python311\\Lib\\site-packages\\sklearn\\preprocessing\\_data.py:240: UserWarning: Numerical issues were encountered when centering the data and might not be solved. Dataset may contain too large values. You may need to prescale your features.\n",
      "  warnings.warn(\n",
      "c:\\Users\\Omkar Sathe\\AppData\\Local\\Programs\\Python\\Python311\\Lib\\site-packages\\sklearn\\preprocessing\\_data.py:259: UserWarning: Numerical issues were encountered when scaling the data and might not be solved. The standard deviation of the data is probably very close to 0. \n",
      "  warnings.warn(\n",
      "c:\\Users\\Omkar Sathe\\AppData\\Local\\Programs\\Python\\Python311\\Lib\\site-packages\\sklearn\\preprocessing\\_data.py:240: UserWarning: Numerical issues were encountered when centering the data and might not be solved. Dataset may contain too large values. You may need to prescale your features.\n",
      "  warnings.warn(\n",
      "c:\\Users\\Omkar Sathe\\AppData\\Local\\Programs\\Python\\Python311\\Lib\\site-packages\\sklearn\\preprocessing\\_data.py:259: UserWarning: Numerical issues were encountered when scaling the data and might not be solved. The standard deviation of the data is probably very close to 0. \n",
      "  warnings.warn(\n"
     ]
    },
    {
     "data": {
      "text/plain": [
       "((137337, 256), (34335, 256))"
      ]
     },
     "execution_count": 5,
     "metadata": {},
     "output_type": "execute_result"
    }
   ],
   "source": [
    "X_train_gmd_node2vec = normalization(np.load('data/node2vec and line/gmd/X_train_gmd_node2vec.npy'))  \n",
    "X_train_gmd_line = normalization(np.load('data/node2vec and line/gmd/X_train_gmd_line.npy'))    \n",
    "X_train_gmd_nl = np.concatenate((X_train_gmd_node2vec,X_train_gmd_line),axis=1)\n",
    "\n",
    "X_test_gmd_node2vec = normalization(np.load('data/node2vec and line/gmd/X_test_gmd_node2vec.npy'))       \n",
    "X_test_gmd_line = normalization(np.load('data/node2vec and line/gmd/X_test_gmd_line.npy')) \n",
    "X_test_gmd_nl = np.concatenate((X_test_gmd_node2vec,X_test_gmd_line),axis=1)\n",
    "\n",
    "X_train_gmd_nl = normalization(X_train_gmd_nl)    \n",
    "X_test_gmd_nl = normalization(X_test_gmd_nl)\n",
    "X_train_gmd_nl.shape, X_test_gmd_nl.shape       "
   ]
  },
  {
   "cell_type": "code",
   "execution_count": 6,
   "metadata": {},
   "outputs": [],
   "source": [
    "np.save('data/feature/X_train_gmd_nl.npy',X_train_gmd_nl)\n",
    "np.save('data/feature/X_test_gmd_nl.npy',X_test_gmd_nl)"
   ]
  },
  {
   "cell_type": "code",
   "execution_count": null,
   "metadata": {},
   "outputs": [],
   "source": []
  }
 ],
 "metadata": {
  "kernelspec": {
   "display_name": "Python 3",
   "language": "python",
   "name": "python3"
  },
  "language_info": {
   "codemirror_mode": {
    "name": "ipython",
    "version": 3
   },
   "file_extension": ".py",
   "mimetype": "text/x-python",
   "name": "python",
   "nbconvert_exporter": "python",
   "pygments_lexer": "ipython3",
   "version": "3.11.2"
  }
 },
 "nbformat": 4,
 "nbformat_minor": 2
}
