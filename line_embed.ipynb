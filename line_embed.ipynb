{
 "cells": [
  {
   "cell_type": "code",
   "execution_count": 1,
   "metadata": {},
   "outputs": [
    {
     "name": "stderr",
     "output_type": "stream",
     "text": [
      "C:\\Users\\Omkar Sathe\\AppData\\Local\\Temp\\ipykernel_4708\\3113790218.py:1: DeprecationWarning: 'cgi' is deprecated and slated for removal in Python 3.13\n",
      "  from cgi import test\n"
     ]
    },
    {
     "ename": "ModuleNotFoundError",
     "evalue": "No module named 'deepctr'",
     "output_type": "error",
     "traceback": [
      "\u001b[1;31m---------------------------------------------------------------------------\u001b[0m",
      "\u001b[1;31mModuleNotFoundError\u001b[0m                       Traceback (most recent call last)",
      "Cell \u001b[1;32mIn[1], line 3\u001b[0m\n\u001b[0;32m      1\u001b[0m \u001b[38;5;28;01mfrom\u001b[39;00m \u001b[38;5;21;01mcgi\u001b[39;00m \u001b[38;5;28;01mimport\u001b[39;00m test\n\u001b[0;32m      2\u001b[0m \u001b[38;5;28;01mfrom\u001b[39;00m \u001b[38;5;21;01mre\u001b[39;00m \u001b[38;5;28;01mimport\u001b[39;00m A\n\u001b[1;32m----> 3\u001b[0m \u001b[38;5;28;01mfrom\u001b[39;00m \u001b[38;5;21;01mmodel\u001b[39;00m\u001b[38;5;21;01m.\u001b[39;00m\u001b[38;5;21;01mline\u001b[39;00m \u001b[38;5;28;01mimport\u001b[39;00m LINE\n\u001b[0;32m      4\u001b[0m \u001b[38;5;28;01mimport\u001b[39;00m \u001b[38;5;21;01mtorch\u001b[39;00m\n\u001b[0;32m      5\u001b[0m \u001b[38;5;28;01mimport\u001b[39;00m \u001b[38;5;21;01mnetworkx\u001b[39;00m \u001b[38;5;28;01mas\u001b[39;00m \u001b[38;5;21;01mnx\u001b[39;00m\n",
      "File \u001b[1;32mc:\\Users\\Omkar Sathe\\Desktop\\gene disease prediction\\DisGeneGraph\\DGGN\\model\\line.py:5\u001b[0m\n\u001b[0;32m      2\u001b[0m \u001b[38;5;28;01mimport\u001b[39;00m \u001b[38;5;21;01mrandom\u001b[39;00m\n\u001b[0;32m      4\u001b[0m \u001b[38;5;28;01mimport\u001b[39;00m \u001b[38;5;21;01mnumpy\u001b[39;00m \u001b[38;5;28;01mas\u001b[39;00m \u001b[38;5;21;01mnp\u001b[39;00m\n\u001b[1;32m----> 5\u001b[0m \u001b[38;5;28;01mfrom\u001b[39;00m \u001b[38;5;21;01mdeepctr\u001b[39;00m\u001b[38;5;21;01m.\u001b[39;00m\u001b[38;5;21;01mlayers\u001b[39;00m\u001b[38;5;21;01m.\u001b[39;00m\u001b[38;5;21;01mutils\u001b[39;00m \u001b[38;5;28;01mimport\u001b[39;00m reduce_sum\n\u001b[0;32m      6\u001b[0m \u001b[38;5;28;01mfrom\u001b[39;00m \u001b[38;5;21;01mtensorflow\u001b[39;00m\u001b[38;5;21;01m.\u001b[39;00m\u001b[38;5;21;01mpython\u001b[39;00m\u001b[38;5;21;01m.\u001b[39;00m\u001b[38;5;21;01mkeras\u001b[39;00m \u001b[38;5;28;01mimport\u001b[39;00m backend \u001b[38;5;28;01mas\u001b[39;00m K\n\u001b[0;32m      7\u001b[0m \u001b[38;5;28;01mfrom\u001b[39;00m \u001b[38;5;21;01mtensorflow\u001b[39;00m\u001b[38;5;21;01m.\u001b[39;00m\u001b[38;5;21;01mpython\u001b[39;00m\u001b[38;5;21;01m.\u001b[39;00m\u001b[38;5;21;01mkeras\u001b[39;00m\u001b[38;5;21;01m.\u001b[39;00m\u001b[38;5;21;01mlayers\u001b[39;00m \u001b[38;5;28;01mimport\u001b[39;00m Embedding, Input, Lambda\n",
      "\u001b[1;31mModuleNotFoundError\u001b[0m: No module named 'deepctr'"
     ]
    }
   ],
   "source": [
    "from cgi import test\n",
    "from re import A\n",
    "from model.line import LINE\n",
    "import torch\n",
    "import networkx as nx\n",
    "import numpy as np\n",
    "print(torch.cuda.is_available())"
   ]
  },
  {
   "cell_type": "code",
   "execution_count": null,
   "metadata": {},
   "outputs": [],
   "source": [
    "def get_graph_0():\n",
    "    G = nx.Graph()\n",
    "    all_node = []\n",
    "    all_edge = []\n",
    "    with open(\"./data/gmd.edgelist\") as f_edge:\n",
    "        edge_content = f_edge.readlines()\n",
    "        for edge in edge_content:\n",
    "            node_1 = edge.strip(\"\\n\").split(\"\\t\")[0]\n",
    "            node_2 = edge.strip(\"\\n\").split(\"\\t\")[1]\n",
    "            weight = float(edge.strip(\"\\n\").split(\"\\t\")[2])\n",
    "            if weight >0:\n",
    "                all_edge.append((node_1, node_2))\n",
    "            if node_1 not in all_node:\n",
    "                all_node.append(node_1)\n",
    "            if node_2 not in all_node:\n",
    "                all_node.append(node_2)\n",
    "    G.add_nodes_from(all_node)\n",
    "    G.add_edges_from(all_edge)\n",
    "\n",
    "    print(\"Nodes: \", G.number_of_nodes())\n",
    "    print(\"Edges: \", G.number_of_edges())\n",
    "\n",
    "    return G"
   ]
  },
  {
   "cell_type": "code",
   "execution_count": null,
   "metadata": {},
   "outputs": [],
   "source": [
    "filea = open(\"data/X_train.txt\")\n",
    "x_train = filea.readlines()\n",
    "fileb = open(\"data/y_train.txt\")\n",
    "y_train = fileb.readlines()\n",
    "\n",
    "filea = open(\"data/X_test.txt\")\n",
    "X_test = filea.readlines()\n",
    "fileb = open(\"data/y_test.txt\")\n",
    "y_test = fileb.readlines()\n",
    "\n",
    "train = []\n",
    "for i in range(len(x_train)):\n",
    "        tup1 = (x_train[i].split()[0].split(\",\")[0],)\n",
    "        tup2 = (x_train[i].split()[0].split(\",\")[1],)\n",
    "        tup3 = (y_train[i].split()[0],)\n",
    "        tup4 = tup1 + tup2 + tup3\n",
    "        train.append(tup4)  # ('G721', 'DO144', '0')\n",
    "           \n",
    "test = []\n",
    "for i in range(len(X_test)):\n",
    "        tup1 = (X_test[i].split()[0].split(\",\")[0],)\n",
    "        tup2 = (X_test[i].split()[0].split(\",\")[1],)\n",
    "        tup3 = (y_test[i].split()[0],)\n",
    "        tup4 = tup1 + tup2 + tup3\n",
    "        test.append(tup4)  # ('G721', 'DO144', '0')"
   ]
  },
  {
   "cell_type": "code",
   "execution_count": null,
   "metadata": {},
   "outputs": [],
   "source": [
    "G = get_graph_0()\n",
    "# G = get_graph()\n",
    "model = LINE(G, embedding_size=64, order='second')\n",
    "model.train(batch_size=1024, epochs=1, verbose=2)\n",
    "embeddings = model.get_embeddings()\n",
    "embeddings_data = np.array(embeddings)\n",
    "\n",
    "X_train_gd = []\n",
    "for i in train:\n",
    "    gd_feature = np.concatenate((embeddings[i[0]],embeddings[i[1]]))\n",
    "    X_train_gd.append(gd_feature) \n",
    "X_train_gd = np.array(X_train_gd)\n",
    "np.save('data/X_train_gmd_line.npy',X_train_gd)\n",
    "print(X_train_gd.shape)\n",
    "\n",
    "X_test_gd = []\n",
    "for i in test:\n",
    "    gd_feature = np.concatenate((embeddings[i[0]],embeddings[i[1]]))\n",
    "    X_test_gd.append(gd_feature) \n",
    "X_test_gd = np.array(X_test_gd)\n",
    "np.save('data/X_test_gmd_line.npy',X_test_gd)\n",
    "print(X_test_gd.shape)\n",
    "\n",
    "print(\"Success!\")"
   ]
  }
 ],
 "metadata": {
  "kernelspec": {
   "display_name": "Python 3",
   "language": "python",
   "name": "python3"
  },
  "language_info": {
   "codemirror_mode": {
    "name": "ipython",
    "version": 3
   },
   "file_extension": ".py",
   "mimetype": "text/x-python",
   "name": "python",
   "nbconvert_exporter": "python",
   "pygments_lexer": "ipython3",
   "version": "3.11.2"
  }
 },
 "nbformat": 4,
 "nbformat_minor": 2
}
